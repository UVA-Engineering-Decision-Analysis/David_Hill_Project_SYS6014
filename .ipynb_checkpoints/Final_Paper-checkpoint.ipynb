{
 "cells": [
  {
   "cell_type": "markdown",
   "metadata": {},
   "source": [
    "---\n",
    "title:\n",
    "- ${1: Documents Title}\n",
    "author:\n",
    "- ${2: Autors Name}\n",
    "papersize:\n",
    "- a4\n",
    "fontsize:\n",
    "- 12pt\n",
    "geometry:\n",
    "- margin=1in\n",
    "fontfamily:\n",
    "- charter\n",
    "header-includes:\n",
    "- \\setlength\\parindent{24pt}\n",
    "---\n",
    "\n",
    "\\maketitle\n",
    "\\thispagestyle{empty}\n",
    "\\clearpage\n",
    "\\tableofcontents\n",
    "\\pagenumbering{roman}\n",
    "\\clearpage\n",
    "\\pagenumbering{arabic}\n",
    "\\setcounter{page}{1}\n",
    "\n",
    "\n",
    "\n",
    "\n",
    "# Abstract\n",
    "\n",
    "# Background\n",
    "\n",
    "# Introduction\n",
    "\n",
    "# Decision Problem\n",
    "\n",
    "# Predictive Model\n",
    "\n",
    "#  Value\n",
    "\n",
    "# Methodolody\n",
    "\n",
    "# Results\n",
    "\n",
    "# Conclusions\n",
    "\n",
    "# Acknowledgements\n",
    "\n",
    "# References"
   ]
  }
 ],
 "metadata": {
  "kernelspec": {
   "display_name": "Python 3",
   "language": "python",
   "name": "python3"
  },
  "language_info": {
   "codemirror_mode": {
    "name": "ipython",
    "version": 3
   },
   "file_extension": ".py",
   "mimetype": "text/x-python",
   "name": "python",
   "nbconvert_exporter": "python",
   "pygments_lexer": "ipython3",
   "version": "3.7.4"
  }
 },
 "nbformat": 4,
 "nbformat_minor": 2
}
